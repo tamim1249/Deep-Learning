{
  "nbformat": 4,
  "nbformat_minor": 0,
  "metadata": {
    "colab": {
      "provenance": [],
      "gpuType": "T4"
    },
    "kernelspec": {
      "name": "python3",
      "display_name": "Python 3"
    },
    "language_info": {
      "name": "python"
    },
    "accelerator": "GPU"
  },
  "cells": [
    {
      "cell_type": "code",
      "execution_count": null,
      "metadata": {
        "colab": {
          "base_uri": "https://localhost:8080/"
        },
        "id": "YCE0FoFmxNcZ",
        "outputId": "f64f83cb-a4b7-4edd-9fcf-8d649640a540"
      },
      "outputs": [
        {
          "output_type": "stream",
          "name": "stdout",
          "text": [
            "dd\n"
          ]
        }
      ],
      "source": [
        "print('dd')"
      ]
    },
    {
      "cell_type": "code",
      "source": [],
      "metadata": {
        "id": "5Y41iKEFxb2v"
      },
      "execution_count": null,
      "outputs": []
    },
    {
      "cell_type": "code",
      "source": [],
      "metadata": {
        "id": "1FERrHSKxewO"
      },
      "execution_count": null,
      "outputs": []
    },
    {
      "cell_type": "markdown",
      "source": [],
      "metadata": {
        "id": "WafQzUZHxfUW"
      }
    },
    {
      "cell_type": "markdown",
      "source": [],
      "metadata": {
        "id": "aDODYVt9xgN9"
      }
    },
    {
      "cell_type": "code",
      "source": [
        "import torch\n",
        "\n",
        "print(\"PyTorch version:\", torch.__version__)\n",
        "print(\"CUDA Available:\", torch.cuda.is_available())\n",
        "print(\"Device:\", \"CUDA (GPU)\" if torch.cuda.is_available() else \"CPU\")\n"
      ],
      "metadata": {
        "colab": {
          "base_uri": "https://localhost:8080/"
        },
        "id": "lye_0Wrcxh0A",
        "outputId": "dc18b0e3-d25a-4d0c-b0a8-9e4973f05f8f"
      },
      "execution_count": null,
      "outputs": [
        {
          "output_type": "stream",
          "name": "stdout",
          "text": [
            "PyTorch version: 2.6.0+cu124\n",
            "CUDA Available: True\n",
            "Device: CUDA (GPU)\n"
          ]
        }
      ]
    },
    {
      "cell_type": "code",
      "source": [
        "!nvidia-smi"
      ],
      "metadata": {
        "colab": {
          "base_uri": "https://localhost:8080/"
        },
        "id": "chvrdiv-x7WZ",
        "outputId": "dd009bda-603e-450a-eb7f-c729a4fc4325"
      },
      "execution_count": null,
      "outputs": [
        {
          "output_type": "stream",
          "name": "stdout",
          "text": [
            "Mon Jun 16 03:29:05 2025       \n",
            "+-----------------------------------------------------------------------------------------+\n",
            "| NVIDIA-SMI 550.54.15              Driver Version: 550.54.15      CUDA Version: 12.4     |\n",
            "|-----------------------------------------+------------------------+----------------------+\n",
            "| GPU  Name                 Persistence-M | Bus-Id          Disp.A | Volatile Uncorr. ECC |\n",
            "| Fan  Temp   Perf          Pwr:Usage/Cap |           Memory-Usage | GPU-Util  Compute M. |\n",
            "|                                         |                        |               MIG M. |\n",
            "|=========================================+========================+======================|\n",
            "|   0  Tesla T4                       Off |   00000000:00:04.0 Off |                    0 |\n",
            "| N/A   45C    P8              9W /   70W |       2MiB /  15360MiB |      0%      Default |\n",
            "|                                         |                        |                  N/A |\n",
            "+-----------------------------------------+------------------------+----------------------+\n",
            "                                                                                         \n",
            "+-----------------------------------------------------------------------------------------+\n",
            "| Processes:                                                                              |\n",
            "|  GPU   GI   CI        PID   Type   Process name                              GPU Memory |\n",
            "|        ID   ID                                                               Usage      |\n",
            "|=========================================================================================|\n",
            "|  No running processes found                                                             |\n",
            "+-----------------------------------------------------------------------------------------+\n"
          ]
        }
      ]
    },
    {
      "cell_type": "code",
      "source": [
        "x=torch.rand(3,3)\n",
        "print(x)\n",
        "y=torch.rand(3,3)\n",
        "print(x)\n",
        "z=x+y\n",
        "print(\"x+y:\",z)"
      ],
      "metadata": {
        "colab": {
          "base_uri": "https://localhost:8080/"
        },
        "id": "qDZMT1ZcyI7X",
        "outputId": "37d04e39-a16f-4b46-a165-8cd7e6c53e58"
      },
      "execution_count": 10,
      "outputs": [
        {
          "output_type": "stream",
          "name": "stdout",
          "text": [
            "tensor([[0.8690, 0.8898, 0.5277],\n",
            "        [0.3590, 0.7992, 0.3203],\n",
            "        [0.4260, 0.6906, 0.2084]])\n",
            "tensor([[0.8690, 0.8898, 0.5277],\n",
            "        [0.3590, 0.7992, 0.3203],\n",
            "        [0.4260, 0.6906, 0.2084]])\n",
            "x+y: tensor([[1.2016, 1.0408, 0.7162],\n",
            "        [1.3400, 0.8858, 1.0592],\n",
            "        [1.3846, 0.9950, 0.9034]])\n"
          ]
        }
      ]
    },
    {
      "cell_type": "code",
      "source": [
        "import torch\n",
        "print(torch.cuda.is_available())\n"
      ],
      "metadata": {
        "id": "NUJcKAxwzCT3",
        "colab": {
          "base_uri": "https://localhost:8080/"
        },
        "outputId": "06168e2c-b9c8-4c84-b646-ad5550e55fec"
      },
      "execution_count": 11,
      "outputs": [
        {
          "output_type": "stream",
          "name": "stdout",
          "text": [
            "True\n"
          ]
        }
      ]
    },
    {
      "cell_type": "code",
      "source": [
        "x=torch.empty(1)\n",
        "x\n",
        "#torch.empty(1) মানে কী?\n",
        "#👉 এটা একটি PyTorch tensor তৈরি করে যার সাইজ হচ্ছে 1, অর্থাৎ একটি এলিমেন্ট আছে।\n",
        "\n",
        "#⚠️ কিন্তু \"empty\" মানে হলো:\n",
        "##শুধু shape তৈরি হবে, কিন্তু ভেতরের মান (value) প্রাকৃতিকভাবে undefined / garbage হবে।\n",
        "\n",
        "#মানে: এটা random value দিবে (কিন্তু সেটা noise/random হবার কথা), কারণ কোনো initialization হয় না।"
      ],
      "metadata": {
        "colab": {
          "base_uri": "https://localhost:8080/"
        },
        "id": "inVgoOFh_01R",
        "outputId": "533b29f6-af6d-4009-889a-4aeba5953f0d"
      },
      "execution_count": 13,
      "outputs": [
        {
          "output_type": "execute_result",
          "data": {
            "text/plain": [
              "tensor([7.7260e-11])"
            ]
          },
          "metadata": {},
          "execution_count": 13
        }
      ]
    },
    {
      "cell_type": "code",
      "source": [
        "x=torch.empty(2,3)\n",
        "print(x)"
      ],
      "metadata": {
        "colab": {
          "base_uri": "https://localhost:8080/"
        },
        "id": "uaWKtrbV_6lM",
        "outputId": "b0b06a42-078a-4f7b-b605-949200fb4bbc"
      },
      "execution_count": 14,
      "outputs": [
        {
          "output_type": "stream",
          "name": "stdout",
          "text": [
            "tensor([[1.4013e-45, 0.0000e+00, 3.5873e-43],\n",
            "        [0.0000e+00, 7.3747e-27, 4.3524e-41]])\n"
          ]
        }
      ]
    },
    {
      "cell_type": "code",
      "source": [
        "x=torch.empty(2,3,3) #3d matrix\n",
        "x"
      ],
      "metadata": {
        "colab": {
          "base_uri": "https://localhost:8080/"
        },
        "id": "3NWS4PbOAoS4",
        "outputId": "2f2782dc-5c89-4aa4-9c6c-dadf1f3f6b48"
      },
      "execution_count": 17,
      "outputs": [
        {
          "output_type": "execute_result",
          "data": {
            "text/plain": [
              "tensor([[[2.1707e-18, 7.0952e+22, 1.7748e+28],\n",
              "         [1.8176e+31, 7.2708e+31, 5.0778e+31],\n",
              "         [3.2608e-12, 1.7728e+28, 7.0367e+22]],\n",
              "\n",
              "        [[2.1715e-18, 8.1995e-10, 2.7476e-06],\n",
              "         [1.0558e-08, 4.1951e-08, 7.9959e+20],\n",
              "         [1.0413e-11, 1.0559e-08, 2.1391e+23]]])"
            ]
          },
          "metadata": {},
          "execution_count": 17
        }
      ]
    },
    {
      "cell_type": "code",
      "source": [
        "x.size()"
      ],
      "metadata": {
        "colab": {
          "base_uri": "https://localhost:8080/"
        },
        "id": "jH98D_rtAvX4",
        "outputId": "d433ba7f-1cc2-4954-ef84-a84e4980b8b5"
      },
      "execution_count": 18,
      "outputs": [
        {
          "output_type": "execute_result",
          "data": {
            "text/plain": [
              "torch.Size([2, 3, 3])"
            ]
          },
          "metadata": {},
          "execution_count": 18
        }
      ]
    },
    {
      "cell_type": "code",
      "source": [
        "x.shape"
      ],
      "metadata": {
        "colab": {
          "base_uri": "https://localhost:8080/"
        },
        "id": "D2WwUKJQA3ti",
        "outputId": "0e8adc07-1869-4504-e1a5-1c8b9a9dae3e"
      },
      "execution_count": 19,
      "outputs": [
        {
          "output_type": "execute_result",
          "data": {
            "text/plain": [
              "torch.Size([2, 3, 3])"
            ]
          },
          "metadata": {},
          "execution_count": 19
        }
      ]
    },
    {
      "cell_type": "code",
      "source": [
        "x.ndim"
      ],
      "metadata": {
        "colab": {
          "base_uri": "https://localhost:8080/"
        },
        "id": "-k4SdUyoA42e",
        "outputId": "8ec9e89c-561c-491a-bd91-dd7eccf75145"
      },
      "execution_count": 20,
      "outputs": [
        {
          "output_type": "execute_result",
          "data": {
            "text/plain": [
              "3"
            ]
          },
          "metadata": {},
          "execution_count": 20
        }
      ]
    },
    {
      "cell_type": "code",
      "source": [
        "x=torch.zeros(2,2)\n",
        "x"
      ],
      "metadata": {
        "colab": {
          "base_uri": "https://localhost:8080/"
        },
        "id": "Se0CARm6A6Zv",
        "outputId": "26297b4c-2b06-4814-e882-6f0993d67942"
      },
      "execution_count": 21,
      "outputs": [
        {
          "output_type": "execute_result",
          "data": {
            "text/plain": [
              "tensor([[0., 0.],\n",
              "        [0., 0.]])"
            ]
          },
          "metadata": {},
          "execution_count": 21
        }
      ]
    },
    {
      "cell_type": "code",
      "source": [
        "x=torch.ones(2,3)\n",
        "print(x)\n",
        "print(x.ndim)"
      ],
      "metadata": {
        "colab": {
          "base_uri": "https://localhost:8080/"
        },
        "id": "g6QKPcJtA-sB",
        "outputId": "28b98988-1649-43af-c3f7-32e312db38ce"
      },
      "execution_count": 24,
      "outputs": [
        {
          "output_type": "stream",
          "name": "stdout",
          "text": [
            "tensor([[1., 1., 1.],\n",
            "        [1., 1., 1.]])\n",
            "2\n"
          ]
        }
      ]
    },
    {
      "cell_type": "code",
      "source": [
        "x=torch.full((2,3,2),fill_value=7)\n",
        "print(x)\n",
        "print(x.ndim)"
      ],
      "metadata": {
        "colab": {
          "base_uri": "https://localhost:8080/"
        },
        "id": "E2AEdFwFBQlh",
        "outputId": "68822f59-02c5-4191-e590-44cec7c810c8"
      },
      "execution_count": 25,
      "outputs": [
        {
          "output_type": "stream",
          "name": "stdout",
          "text": [
            "tensor([[[7, 7],\n",
            "         [7, 7],\n",
            "         [7, 7]],\n",
            "\n",
            "        [[7, 7],\n",
            "         [7, 7],\n",
            "         [7, 7]]])\n",
            "3\n"
          ]
        }
      ]
    },
    {
      "cell_type": "code",
      "source": [
        "x=torch.full((2,4),fill_value=9,dtype=torch.float)\n",
        "print(x)\n",
        "print(x.ndim)"
      ],
      "metadata": {
        "colab": {
          "base_uri": "https://localhost:8080/"
        },
        "id": "mturXsMEBmim",
        "outputId": "7d981307-0bac-4a09-bc8b-0ed65a1743d3"
      },
      "execution_count": 26,
      "outputs": [
        {
          "output_type": "stream",
          "name": "stdout",
          "text": [
            "tensor([[9., 9., 9., 9.],\n",
            "        [9., 9., 9., 9.]])\n",
            "2\n"
          ]
        }
      ]
    },
    {
      "cell_type": "code",
      "source": [
        "x=torch.empty(2,3,2,dtype=torch.double)\n",
        "print(x)"
      ],
      "metadata": {
        "colab": {
          "base_uri": "https://localhost:8080/"
        },
        "id": "6nT4FB_9B92n",
        "outputId": "5de58ead-a9c2-474f-a8f1-ab9d0ceb56f9"
      },
      "execution_count": 27,
      "outputs": [
        {
          "output_type": "stream",
          "name": "stdout",
          "text": [
            "tensor([[[3.8735e-315, 3.8738e-315],\n",
            "         [3.1620e-322, 3.9525e-322],\n",
            "         [3.8747e-315, 3.9268e+126]],\n",
            "\n",
            "        [[4.2522e+180, 7.4854e+247],\n",
            "         [2.3236e+251, 6.1113e+223],\n",
            "         [2.5990e-144,  1.6687e-47]]], dtype=torch.float64)\n"
          ]
        }
      ]
    },
    {
      "cell_type": "code",
      "source": [
        "x=torch.tensor([24,3.4,5.6])\n",
        "x"
      ],
      "metadata": {
        "colab": {
          "base_uri": "https://localhost:8080/"
        },
        "id": "fAQsGhcsCKJY",
        "outputId": "3342b5f7-a26d-4d50-fc75-55e86cb00308"
      },
      "execution_count": 28,
      "outputs": [
        {
          "output_type": "execute_result",
          "data": {
            "text/plain": [
              "tensor([24.0000,  3.4000,  5.6000])"
            ]
          },
          "metadata": {},
          "execution_count": 28
        }
      ]
    },
    {
      "cell_type": "code",
      "source": [
        "x=torch.rand(2,2)\n",
        "y=torch.rand(2,2)\n",
        "z=x+y\n",
        "print(x)\n",
        "print(y)\n",
        "print(\"x+y\",z)\n",
        "s=torch.add(x,y)\n",
        "print(\"x+y:\",s)\n",
        "y.add_(x)\n",
        "print('x+y:',y)\n"
      ],
      "metadata": {
        "colab": {
          "base_uri": "https://localhost:8080/"
        },
        "id": "CyzjSViECXn_",
        "outputId": "f8b835b1-bd0c-4795-9f3e-f859e8ebc720"
      },
      "execution_count": 32,
      "outputs": [
        {
          "output_type": "stream",
          "name": "stdout",
          "text": [
            "tensor([[0.3105, 0.4846],\n",
            "        [0.6904, 0.0147]])\n",
            "tensor([[0.7447, 0.0501],\n",
            "        [0.6941, 0.5948]])\n",
            "x+y tensor([[1.0552, 0.5346],\n",
            "        [1.3845, 0.6095]])\n",
            "x+y: tensor([[1.0552, 0.5346],\n",
            "        [1.3845, 0.6095]])\n",
            "x+y: tensor([[1.0552, 0.5346],\n",
            "        [1.3845, 0.6095]])\n"
          ]
        }
      ]
    },
    {
      "cell_type": "code",
      "source": [
        "d=x-y\n",
        "print(\"substarct:\",d)\n",
        "s=torch.sub(x,y)\n",
        "print(s)\n",
        "x.sub_(y)\n",
        "print(x)\n"
      ],
      "metadata": {
        "colab": {
          "base_uri": "https://localhost:8080/"
        },
        "id": "JVjRme0IClQ0",
        "outputId": "2873e5a1-8f64-4f36-f02b-b6f6039d57c2"
      },
      "execution_count": 33,
      "outputs": [
        {
          "output_type": "stream",
          "name": "stdout",
          "text": [
            "substarct: tensor([[-0.7447, -0.0501],\n",
            "        [-0.6941, -0.5948]])\n",
            "tensor([[-0.7447, -0.0501],\n",
            "        [-0.6941, -0.5948]])\n",
            "tensor([[-0.7447, -0.0501],\n",
            "        [-0.6941, -0.5948]])\n"
          ]
        }
      ]
    },
    {
      "cell_type": "code",
      "source": [
        "d=x*y\n",
        "print(d)\n",
        "s=torch.mul(x,y)\n",
        "x.mul_(y)\n",
        "print(s)\n",
        "print(x)"
      ],
      "metadata": {
        "colab": {
          "base_uri": "https://localhost:8080/"
        },
        "id": "yG89dYIpDMDz",
        "outputId": "bb7b96b2-0559-4262-edf0-cd73cdecf4ee"
      },
      "execution_count": 35,
      "outputs": [
        {
          "output_type": "stream",
          "name": "stdout",
          "text": [
            "tensor([[-0.8292, -0.0143],\n",
            "        [-1.3304, -0.2209]])\n",
            "tensor([[-0.8292, -0.0143],\n",
            "        [-1.3304, -0.2209]])\n",
            "tensor([[-0.8292, -0.0143],\n",
            "        [-1.3304, -0.2209]])\n"
          ]
        }
      ]
    },
    {
      "cell_type": "code",
      "source": [
        "s=x/y\n",
        "print(s)\n",
        "d=torch.div(x,y)\n",
        "print(d)\n",
        "x.div_(y)\n",
        "print(x)"
      ],
      "metadata": {
        "colab": {
          "base_uri": "https://localhost:8080/"
        },
        "id": "v7x8RJLiDYhY",
        "outputId": "dba79d37-1f9e-404d-da18-6dc8d029b297"
      },
      "execution_count": 36,
      "outputs": [
        {
          "output_type": "stream",
          "name": "stdout",
          "text": [
            "tensor([[-0.7858, -0.0268],\n",
            "        [-0.9609, -0.3625]])\n",
            "tensor([[-0.7858, -0.0268],\n",
            "        [-0.9609, -0.3625]])\n",
            "tensor([[-0.7858, -0.0268],\n",
            "        [-0.9609, -0.3625]])\n"
          ]
        }
      ]
    },
    {
      "cell_type": "code",
      "source": [
        "#view mane hsse reshapr ekorbe\n",
        "x=torch.rand(4,4)\n",
        "print(x)\n",
        "print()\n",
        "y=x.view(16)\n",
        "print(y)\n",
        "print(x.ndim)\n",
        "print(y.ndim)"
      ],
      "metadata": {
        "colab": {
          "base_uri": "https://localhost:8080/"
        },
        "id": "Mv70BfauDmtC",
        "outputId": "4402fafb-e590-4c5d-997f-bf02ecb9ba02"
      },
      "execution_count": 41,
      "outputs": [
        {
          "output_type": "stream",
          "name": "stdout",
          "text": [
            "tensor([[0.7696, 0.1167, 0.3846, 0.6715],\n",
            "        [0.7665, 0.6254, 0.8505, 0.2890],\n",
            "        [0.1991, 0.3894, 0.6223, 0.5413],\n",
            "        [0.1105, 0.8892, 0.4146, 0.2319]])\n",
            "\n",
            "tensor([0.7696, 0.1167, 0.3846, 0.6715, 0.7665, 0.6254, 0.8505, 0.2890, 0.1991,\n",
            "        0.3894, 0.6223, 0.5413, 0.1105, 0.8892, 0.4146, 0.2319])\n",
            "2\n",
            "1\n"
          ]
        }
      ]
    },
    {
      "cell_type": "markdown",
      "source": [],
      "metadata": {
        "id": "3sjhr4I-D4YO"
      }
    },
    {
      "cell_type": "code",
      "source": [
        "y=x.view(2,8)\n",
        "print(y)\n",
        "print(y.ndim)"
      ],
      "metadata": {
        "colab": {
          "base_uri": "https://localhost:8080/"
        },
        "id": "ggFHCDg1EnBX",
        "outputId": "3940a245-451f-42f9-ec9b-eb88958211ec"
      },
      "execution_count": 43,
      "outputs": [
        {
          "output_type": "stream",
          "name": "stdout",
          "text": [
            "tensor([[0.7696, 0.1167, 0.3846, 0.6715, 0.7665, 0.6254, 0.8505, 0.2890],\n",
            "        [0.1991, 0.3894, 0.6223, 0.5413, 0.1105, 0.8892, 0.4146, 0.2319]])\n",
            "2\n"
          ]
        }
      ]
    },
    {
      "cell_type": "code",
      "source": [
        "#tensor to numpy array, a te ja thakbe b teo tai , a te cng b teo cng hbe auto\n",
        "a=torch.ones(5)\n",
        "print(a)\n",
        "b=a.numpy()\n",
        "print(type(b))\n",
        "print(b)\n",
        "\n",
        "a.add_(1) #a te add krsi , b teo auto add hye jabe\n",
        "print(\"a+b\",a)"
      ],
      "metadata": {
        "colab": {
          "base_uri": "https://localhost:8080/"
        },
        "id": "Nlm-Q3gnE0MO",
        "outputId": "b69012ee-1349-42b6-d12e-593d61988112"
      },
      "execution_count": 47,
      "outputs": [
        {
          "output_type": "stream",
          "name": "stdout",
          "text": [
            "tensor([1., 1., 1., 1., 1.])\n",
            "<class 'numpy.ndarray'>\n",
            "[1. 1. 1. 1. 1.]\n",
            "a+b tensor([2., 2., 2., 2., 2.])\n"
          ]
        }
      ]
    },
    {
      "cell_type": "code",
      "source": [
        "import numpy as np\n",
        "a=np.ones(5)\n",
        "print(\"Numpy:\",a)\n",
        "print()\n",
        "b=torch.from_numpy(a)\n",
        "print(b)\n",
        "a+=1;\n",
        "print(a) # numpy a add korlam ,, tensor ao ad hoye gelo auto\n",
        "print()\n",
        "print(b)"
      ],
      "metadata": {
        "colab": {
          "base_uri": "https://localhost:8080/"
        },
        "id": "3Z7uCdviFhs_",
        "outputId": "c2967eb6-ec1d-4f6c-a04e-9e445de914be"
      },
      "execution_count": 53,
      "outputs": [
        {
          "output_type": "stream",
          "name": "stdout",
          "text": [
            "Numpy: [1. 1. 1. 1. 1.]\n",
            "\n",
            "tensor([1., 1., 1., 1., 1.], dtype=torch.float64)\n",
            "[2. 2. 2. 2. 2.]\n",
            "\n",
            "tensor([2., 2., 2., 2., 2.], dtype=torch.float64)\n"
          ]
        }
      ]
    },
    {
      "cell_type": "code",
      "source": [
        "import torch  # PyTorch লাইব্রেরি ইমপোর্ট\n",
        "\n",
        "# চেক করো GPU (CUDA) অ্যাভেইলেবল আছে কি না\n",
        "if torch.cuda.is_available():\n",
        "\n",
        "    # \"cuda\" ডিভাইস বানানো (মানে GPU)\n",
        "    device = torch.device(\"cuda\")\n",
        "\n",
        "    # GPU তে ৫টা ১ (one) দিয়ে tensor তৈরি\n",
        "    x = torch.ones(5, device=device)\n",
        "\n",
        "    # CPU তে ৫টা ১ দিয়ে tensor তৈরি\n",
        "    y = torch.ones(5)\n",
        "\n",
        "    # y কে GPU তে পাঠানো\n",
        "    y = y.to(device)\n",
        "\n",
        "    # x আর y এর যোগফল — কাজটা GPU তেই হবে\n",
        "    z = x + y\n",
        "\n",
        "    # z কে আবার CPU তে ফেরত আনা (প্রিন্ট করার জন্য)\n",
        "    z = z.to(\"cpu\")\n",
        "\n",
        "    # রেজাল্ট প্রিন্ট\n",
        "    print(z)\n",
        "\n",
        "else:\n",
        "    # যদি GPU না থাকে, এই মেসেজ দেখাও\n",
        "    print(\"Not\")\n"
      ],
      "metadata": {
        "colab": {
          "base_uri": "https://localhost:8080/"
        },
        "id": "8u4wtqgQF5jc",
        "outputId": "192bb932-66d3-4d6f-ff56-4ad587dfbb31"
      },
      "execution_count": 60,
      "outputs": [
        {
          "output_type": "stream",
          "name": "stdout",
          "text": [
            "tensor([2., 2., 2., 2., 2.])\n"
          ]
        }
      ]
    },
    {
      "cell_type": "code",
      "source": [
        "#Autograde\n",
        "x=torch.ones(5,requires_grad=True)\n",
        "print(x)"
      ],
      "metadata": {
        "colab": {
          "base_uri": "https://localhost:8080/"
        },
        "id": "I9ZDwwojHBL2",
        "outputId": "7b2eb3f3-65ef-41f9-b7da-82f8bea7009d"
      },
      "execution_count": 62,
      "outputs": [
        {
          "output_type": "stream",
          "name": "stdout",
          "text": [
            "tensor([1., 1., 1., 1., 1.], requires_grad=True)\n"
          ]
        }
      ]
    },
    {
      "cell_type": "markdown",
      "source": [
        " requires_grad=True\n",
        "এই অপশনটা দিলে PyTorch জানে — \"এই tensor এর উপর যেই সব অপারেশন হবে, তার gradient হিসেব রাখতে হবে।\"\n",
        "\n",
        "📌 অর্থাৎ:\n",
        "\n",
        "এই x থেকে যদি তুমি কোনো ফাংশন তৈরি করো (যেমন y = x.sum()), তাহলে .backward() দিলে PyTorch gradient বের করতে পারবে।\n",
        "\n",
        "🔎 Output:"
      ],
      "metadata": {
        "id": "7yry7f_0JNYB"
      }
    },
    {
      "cell_type": "code",
      "source": [
        "x = torch.ones(5, requires_grad=True)   # Gradient track করবো\n",
        "y = x * 2                               # y = [2, 2, 2, 2, 2]\n",
        "z = y.sum()                             # z = 2 + 2 + 2 + 2 + 2 = 10\n",
        "z.backward()\n",
        "                      # Gradient হিসাব শুরু\n",
        "\n",
        "print(x.grad)   # dx = ∂z/∂x = 2\n"
      ],
      "metadata": {
        "colab": {
          "base_uri": "https://localhost:8080/"
        },
        "id": "ZZW3KKHfJOOJ",
        "outputId": "ec349203-e6af-45db-910a-cba5a4634305"
      },
      "execution_count": 66,
      "outputs": [
        {
          "output_type": "stream",
          "name": "stdout",
          "text": [
            "tensor([2., 2., 2., 2., 2.])\n"
          ]
        }
      ]
    },
    {
      "cell_type": "markdown",
      "source": [
        "ব্যাখ্যা (Step by Step):\n",
        "🧮 ১. x = [1, 1, 1, 1, 1]\n",
        "🧮 ২. y = x * 2 = [2, 2, 2, 2, 2]\n",
        "➡️ এখানে y হলো x এর উপর একটা ফাংশন: y = 2x\n",
        "\n",
        "🧮 ৩. z = y.sum()\n",
        "➡️ z = 2x₁ + 2x₂ + 2x₃ + 2x₄ + 2x₅ = 10"
      ],
      "metadata": {
        "id": "jVDDrhGCKnNE"
      }
    },
    {
      "cell_type": "code",
      "source": [
        "import torch\n",
        "\n",
        "# Step 1: টেন্সর বানাও এবং gradient ট্র্যাকিং চালু করো\n",
        "x = torch.tensor([2.0], requires_grad=True)\n",
        "\n",
        "# Step 2: ফাংশন হিসাব করো → f(x) = x^3 + 2x\n",
        "y = x**3 + 2*x\n",
        "\n",
        "# Step 3: Gradient বের করো\n",
        "y.backward()\n",
        "\n",
        "# Step 4: Gradient প্রিন্ট করো\n",
        "print(\"x =\", x.item())\n",
        "print(\"y =\", y.item())\n",
        "print(\"Gradient dy/dx =\", x.grad.item())\n"
      ],
      "metadata": {
        "colab": {
          "base_uri": "https://localhost:8080/"
        },
        "id": "Jfxjxm2mJu3l",
        "outputId": "5b45b4ba-fcac-4e80-9321-12ebff52a11b"
      },
      "execution_count": 67,
      "outputs": [
        {
          "output_type": "stream",
          "name": "stdout",
          "text": [
            "x = 2.0\n",
            "y = 12.0\n",
            "Gradient dy/dx = 14.0\n"
          ]
        }
      ]
    },
    {
      "cell_type": "markdown",
      "source": [
        "Gradient মানে হলো derivative — যেকোনো ফাংশন কতটা পরিবর্তন হয় একটা ইনপুট বদলালে।\n",
        "\n",
        "সোজা কথায়:\n",
        "\n",
        "তুমি y = f(x) জানো।\n",
        "\n",
        "তাহলে gradient (∂y/∂x) = x বাড়লে, y কত বাড়ে/কমে — এই হিসাব।\n",
        "\n",
        "PyTorch কিভাবে gradient বের করে?\n",
        "➡️ তুমি যদি কোন tensor বানাও requires_grad=True দিয়ে,\n",
        "➡️ তারপর তার উপর কিছু operations করো (addition, multiplication ইত্যাদি),\n",
        "➡️ শেষে .backward() চালাও, তাহলে PyTorch gradient auto calculate করে।"
      ],
      "metadata": {
        "id": "lnn7OMgZKOAy"
      }
    },
    {
      "cell_type": "markdown",
      "source": [],
      "metadata": {
        "id": "KqCsVEjbKK9W"
      }
    },
    {
      "cell_type": "code",
      "source": [
        "x=torch.randn(3,requires_grad=True)\n",
        "print(x)\n",
        "y=x+2\n",
        "print(y)\n",
        "z=y*y*2\n",
        "print(z)\n",
        "#z=z.mean()\n",
        "print(z)\n",
        "v=torch.tensor([0.1,1.0,0.001],dtype=torch.float32)\n",
        "z.backward(v)  #dz/dx\n",
        "print(x.grad)\n",
        "\n",
        "\n"
      ],
      "metadata": {
        "colab": {
          "base_uri": "https://localhost:8080/"
        },
        "id": "NYskk7QMLnLN",
        "outputId": "2c883130-eac5-48a7-812d-76d44f5b4810"
      },
      "execution_count": 80,
      "outputs": [
        {
          "output_type": "stream",
          "name": "stdout",
          "text": [
            "tensor([-1.5121, -0.4892,  1.9013], requires_grad=True)\n",
            "tensor([0.4879, 1.5108, 3.9013], grad_fn=<AddBackward0>)\n",
            "tensor([ 0.4761,  4.5648, 30.4410], grad_fn=<MulBackward0>)\n",
            "tensor([ 0.4761,  4.5648, 30.4410], grad_fn=<MulBackward0>)\n",
            "tensor([0.1952, 6.0430, 0.0156])\n"
          ]
        }
      ]
    },
    {
      "cell_type": "code",
      "source": [
        "\n"
      ],
      "metadata": {
        "id": "h7kpv1oyMEdi"
      },
      "execution_count": 80,
      "outputs": []
    },
    {
      "cell_type": "code",
      "source": [
        "# 3 ways for stop gradient function\n",
        "x=torch.randn(3,requires_grad=True)\n",
        "print(x)\n",
        "print()\n",
        "x.requires_grad=False\n",
        "print(x)\n",
        "\n",
        "y=x.detach()\n",
        "print(y)\n",
        "\n",
        "with torch.no_grad():\n",
        "  z=x\n",
        "  print(z)"
      ],
      "metadata": {
        "colab": {
          "base_uri": "https://localhost:8080/"
        },
        "id": "OI4kHv7aPf9Q",
        "outputId": "b0239699-567b-4d5c-d4fc-4d1a07574f52"
      },
      "execution_count": 85,
      "outputs": [
        {
          "output_type": "stream",
          "name": "stdout",
          "text": [
            "tensor([ 0.5957, -1.6221, -0.7021], requires_grad=True)\n",
            "\n",
            "tensor([ 0.5957, -1.6221, -0.7021])\n",
            "tensor([ 0.5957, -1.6221, -0.7021])\n",
            "tensor([ 0.5957, -1.6221, -0.7021])\n"
          ]
        }
      ]
    },
    {
      "cell_type": "markdown",
      "source": [
        "\n",
        "x.requires_grad = False\n",
        "✅ এটা existing tensor এর উপর সরাসরি gradient tracking off করে দেয়।\n",
        "অর্থাৎ এখন থেকে x এর উপর কোনো অপারেশন করলে PyTorch আর gradient হিসাব রাখবে না।\n",
        "\n",
        "📌 কখন ব্যবহার করবো?\n",
        "যখন তোমার কাছে আগেই একটা tensor আছে যার জন্য গ্র‍্যাডিয়েন্ট track হচ্ছিল, কিন্তু এখন সেটা fixed বা inference mode-এ ব্যবহার করতে চাও।\n",
        "\n",
        "\n",
        "y = x.detach()\n",
        "✅ এটা x টেন্সরের একটা কপি বানায় যেটা computational graph থেকে পুরোপুরি আলাদা।\n",
        "➡️ এর মানে y-এর উপর যেই অপারেশনই করো না কেন, PyTorch ধরে নেবে: \"এটা কোনো gradient-calculable chain-এর অংশ না\"।\n",
        "\n",
        "📌 কখন ব্যবহার করবো?\n",
        "যখন একটা tensor থেকে gradient tracking ছাড়াই output বের করতে চাও, কিন্তু x কে মূলত অপরিবর্তিত রাখতেও চাও।\n",
        "\n",
        "\n",
        "with torch.no_grad():\n",
        "    z = x\n",
        "✅ এটা একটা context block — এর ভেতরে সব টেন্সরের উপর অপারেশন PyTorch gradient হিসাব করবে না।\n",
        "\n",
        "📌 কখন ব্যবহার করবো?\n",
        "যখন model evaluation বা prediction করো (inference time), তখন পুরো ব্লকেই gradient tracking বন্ধ করে efficient computation করতে চাও।\n",
        "\n"
      ],
      "metadata": {
        "id": "C_kWXTEUR2o5"
      }
    },
    {
      "cell_type": "code",
      "source": [
        "weights=torch.ones(4,requires_grad=True)\n",
        "for epoch in range(4):\n",
        "  model_output=(weights*3).sum()\n",
        "  model_output.backward()\n",
        "  print(weights.grad)\n",
        "  weights.grad.zero_()"
      ],
      "metadata": {
        "colab": {
          "base_uri": "https://localhost:8080/"
        },
        "id": "wbN938AjRBaw",
        "outputId": "b63d1ec4-648c-4ab7-9c31-0ffba98dfe61"
      },
      "execution_count": 91,
      "outputs": [
        {
          "output_type": "stream",
          "name": "stdout",
          "text": [
            "tensor([3., 3., 3., 3.])\n",
            "tensor([3., 3., 3., 3.])\n",
            "tensor([3., 3., 3., 3.])\n",
            "tensor([3., 3., 3., 3.])\n"
          ]
        }
      ]
    },
    {
      "cell_type": "code",
      "source": [
        "import torch\n",
        "\n",
        "weights = torch.ones(4, requires_grad=True)\n",
        "optimizer = torch.optim.SGD([weights], lr=0.01)\n",
        "\n",
        "# Forward pass\n",
        "output = (weights * 2).sum()\n",
        "\n",
        "# Backward pass\n",
        "output.backward()\n",
        "\n",
        "# Gradient descent step\n",
        "optimizer.step()\n",
        "\n",
        "# Zero out gradients\n",
        "optimizer.zero_grad()\n",
        "\n",
        "print(weights)  # You’ll see weights have been updated slightly\n"
      ],
      "metadata": {
        "colab": {
          "base_uri": "https://localhost:8080/"
        },
        "id": "p9-VsCq0TLjB",
        "outputId": "d5cce6fc-c63b-41fd-f110-41040bb81dce"
      },
      "execution_count": 93,
      "outputs": [
        {
          "output_type": "stream",
          "name": "stdout",
          "text": [
            "tensor([0.9800, 0.9800, 0.9800, 0.9800], requires_grad=True)\n"
          ]
        }
      ]
    },
    {
      "cell_type": "code",
      "source": [],
      "metadata": {
        "id": "Md2G6Hb1UocC"
      },
      "execution_count": null,
      "outputs": []
    }
  ]
}