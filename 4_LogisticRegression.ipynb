{
  "nbformat": 4,
  "nbformat_minor": 0,
  "metadata": {
    "colab": {
      "provenance": []
    },
    "kernelspec": {
      "name": "python3",
      "display_name": "Python 3"
    },
    "language_info": {
      "name": "python"
    }
  },
  "cells": [
    {
      "cell_type": "code",
      "execution_count": null,
      "metadata": {
        "colab": {
          "base_uri": "https://localhost:8080/"
        },
        "id": "yUXMZhlycJMs",
        "outputId": "952ba98f-3be2-47f7-b353-8976d0a46a7e"
      },
      "outputs": [
        {
          "output_type": "stream",
          "name": "stdout",
          "text": [
            "Epoch 0, Loss: 0.7375\n",
            "Epoch 100, Loss: 0.4427\n",
            "Epoch 200, Loss: 0.3448\n",
            "Epoch 300, Loss: 0.2865\n",
            "Epoch 400, Loss: 0.2481\n",
            "Epoch 500, Loss: 0.2206\n",
            "Epoch 600, Loss: 0.1999\n",
            "Epoch 700, Loss: 0.1835\n",
            "Epoch 800, Loss: 0.1702\n",
            "Epoch 900, Loss: 0.1590\n",
            "Prediction (Probability): 0.1070798709988594\n",
            "Prediction (Class): 0\n"
          ]
        }
      ],
      "source": [
        "import torch\n",
        "import torch.nn as nn\n",
        "import torch.optim as optim\n",
        "\n",
        "# 1. Sample Dataset (X: input features, y: labels)\n",
        "X = torch.tensor([[1.0], [2.0], [3.0], [4.0]])   # shape: (4,1)\n",
        "y = torch.tensor([[0.0], [0.0], [1.0], [1.0]])   # shape: (4,1)\n",
        "\n",
        "# 2. Define Logistic Regression Model\n",
        "class LogisticRegressionModel(nn.Module):\n",
        "    def __init__(self):\n",
        "        super(LogisticRegressionModel, self).__init__()\n",
        "        self.linear = nn.Linear(1, 1)  # input size = 1, output size = 1\n",
        "\n",
        "    def forward(self, x):\n",
        "        return torch.sigmoid(self.linear(x))  # sigmoid activation\n",
        "\n",
        "model = LogisticRegressionModel()\n",
        "\n",
        "# 3. Loss and Optimizer\n",
        "criterion = nn.BCELoss()  # Binary Cross Entropy Loss\n",
        "optimizer = optim.SGD(model.parameters(), lr=0.1)\n",
        "\n",
        "# 4. Training Loop\n",
        "for epoch in range(1000):\n",
        "    # Forward Pass\n",
        "    y_pred = model(X)\n",
        "\n",
        "    # Compute Loss\n",
        "    loss = criterion(y_pred, y)\n",
        "\n",
        "    # Backward Pass\n",
        "    optimizer.zero_grad()\n",
        "    loss.backward()\n",
        "    optimizer.step()\n",
        "\n",
        "    if epoch % 100 == 0:\n",
        "        print(f\"Epoch {epoch}, Loss: {loss.item():.4f}\")\n",
        "\n",
        "# 5. Testing\n",
        "with torch.no_grad():\n",
        "    test_input = torch.tensor([[1.5]])\n",
        "    test_output = model(test_input)\n",
        "    print(\"Prediction (Probability):\", test_output.item())\n",
        "    print(\"Prediction (Class):\", int(test_output.item() > 0.5))\n",
        "\n",
        "    #Loss komle bujhi je model boro boro bhul kom koreche\n"
      ]
    },
    {
      "cell_type": "markdown",
      "source": [
        "Prediction with probability: 0.32\n",
        "Prediction with class: 0\n",
        "0.32 means: 32% chance that it is class 1 → so it's closer to 0\n",
        "\n",
        "Tokhon prediction class hobe 0"
      ],
      "metadata": {
        "id": "PCYeu18ikFkY"
      }
    },
    {
      "cell_type": "markdown",
      "source": [
        "ogistic Regression-er Main Kaj:\n",
        "➡️ Binary classification — mane:\n",
        "\n",
        "Duto class-er moddhe kon ta hobe seta predict kora.\n",
        "Example: \"Pass or Fail\", \"Spam or Not\", \"Disease or No Disease\", etc.\n",
        "\n",
        "⚙️ Logistic Regression ki kore?\n",
        "🔹 Step-by-step kaj:\n",
        "✅ 1. Linear Combination:\n",
        "Model protome eta kore:\n",
        "\n",
        "𝑧\n",
        "=\n",
        "𝑤\n",
        "⋅\n",
        "𝑥\n",
        "+\n",
        "𝑏\n",
        "z=w⋅x+b\n",
        "𝑤\n",
        "w: weight (learned from data)\n",
        "\n",
        "𝑏\n",
        "b: bias\n",
        "\n",
        "𝑥\n",
        "x: input feature\n",
        "\n",
        "👉 Eta just ekta straight line equation.\n",
        "\n",
        "Linear output ke sigmoid function-e pathai:\n",
        "\n",
        "𝑦\n",
        "^\n",
        "=\n",
        "𝜎\n",
        "(\n",
        "𝑧\n",
        ")\n",
        "=\n",
        "1\n",
        "1\n",
        "+\n",
        "𝑒\n",
        "−\n",
        "𝑧\n",
        "y\n",
        "^\n",
        "​\n",
        " =σ(z)=\n",
        "1+e\n",
        "−z\n",
        "\n",
        "1\n",
        "​\n",
        "\n",
        "🧠 Sigmoid function:\n",
        "\n",
        "Output dey 0 to 1 er moddhe — mane probability.\n",
        "\n",
        "Bujhai: \"Eta class 1 hobar koto percent chance?\"\n",
        "Jodi input x = 2.0, model calculate korbe:\n",
        "\n",
        "𝑧\n",
        "=\n",
        "𝑤\n",
        "⋅\n",
        "2.0\n",
        "+\n",
        "𝑏\n",
        "z=w⋅2.0+b\n",
        "\n",
        "𝑦\n",
        "^\n",
        "=\n",
        "𝑠\n",
        "𝑖\n",
        "𝑔\n",
        "𝑚\n",
        "𝑜\n",
        "𝑖\n",
        "𝑑\n",
        "(\n",
        "𝑧\n",
        ")\n",
        "y\n",
        "^\n",
        "​\n",
        " =sigmoid(z)\n",
        "\n",
        "Output dey: e.g., 0.25 → means: 25% chance it's class 1"
      ],
      "metadata": {
        "id": "r-6rYBD2kXy5"
      }
    },
    {
      "cell_type": "code",
      "source": [
        "import torch\n",
        "import torch.nn as nn\n",
        "import torch.optim as optim\n",
        "\n",
        "# Data\n",
        "x = torch.tensor([[5.0], [10.0], [15.0], [18.0], [20.0], [25.0]])\n",
        "y = torch.tensor([[0.0], [0.0], [0.0], [1.0], [1.0], [1.0]])\n",
        "\n",
        "# Model\n",
        "class LogisticRegressionModel(nn.Module):\n",
        "    def __init__(self):\n",
        "        super(LogisticRegressionModel, self).__init__()\n",
        "        self.linear = nn.Linear(1, 1)\n",
        "\n",
        "    def forward(self, x):\n",
        "        return torch.sigmoid(self.linear(x))\n",
        "\n",
        "model = LogisticRegressionModel()\n",
        "\n",
        "# Loss and Optimizer\n",
        "criterion = nn.BCELoss()\n",
        "optimizer = optim.SGD(model.parameters(), lr=0.01)  # 🔁 fixed variable name\n",
        "\n",
        "# Training\n",
        "for epoch in range(1000):\n",
        "    y_pred = model(x)\n",
        "    loss = criterion(y_pred, y)\n",
        "\n",
        "    optimizer.zero_grad()      # 🔁 same name\n",
        "    loss.backward()\n",
        "    optimizer.step()\n",
        "\n",
        "    if epoch % 100 == 0:\n",
        "        print(f\"Epoch {epoch} Loss: {loss.item():.4f}\")\n",
        "\n",
        "# Prediction\n",
        "with torch.no_grad():\n",
        "    test = torch.tensor([[12.0], [17.0], [22.0]])\n",
        "    predictions = model(test)\n",
        "    for i, pred in enumerate(predictions):\n",
        "        print(f\"Age: {test[i].item()} → Probability: {pred.item():.4f} → Class: {int(pred.item() > 0.5)}\")\n"
      ],
      "metadata": {
        "colab": {
          "base_uri": "https://localhost:8080/"
        },
        "id": "mFqPuSw0kaJ9",
        "outputId": "1bbf9710-3791-498f-e947-35a8e02b2ed1"
      },
      "execution_count": 33,
      "outputs": [
        {
          "output_type": "stream",
          "name": "stdout",
          "text": [
            "Epoch 0 Loss: 2.0611\n",
            "Epoch 100 Loss: 0.5269\n",
            "Epoch 200 Loss: 0.5123\n",
            "Epoch 300 Loss: 0.4988\n",
            "Epoch 400 Loss: 0.4861\n",
            "Epoch 500 Loss: 0.4742\n",
            "Epoch 600 Loss: 0.4631\n",
            "Epoch 700 Loss: 0.4526\n",
            "Epoch 800 Loss: 0.4428\n",
            "Epoch 900 Loss: 0.4335\n",
            "Age: 12.0 → Probability: 0.4844 → Class: 0\n",
            "Age: 17.0 → Probability: 0.6564 → Class: 1\n",
            "Age: 22.0 → Probability: 0.7953 → Class: 1\n"
          ]
        }
      ]
    },
    {
      "cell_type": "code",
      "source": [
        "#Linear Regression model\n",
        "import torch\n",
        "import torch.nn as nn\n",
        "import matplotlib.pyplot as plt\n",
        "import numpy as np\n",
        "import torch.optim as optim\n",
        "\n",
        "X = torch.tensor([[5.0], [10.0], [4.0], [7.0]])\n",
        "y = torch.tensor([[3.20], [3.98], [2.50], [3.60]])\n",
        "\n",
        "class LinearRegressionModel(nn.Module):\n",
        "  def __init__(self):\n",
        "    super(LinearRegressionModel,self).__init__()\n",
        "    self.linear=nn.Linear(1,1)\n",
        "  def forward(self, x):\n",
        "        return self.linear(x)\n",
        "\n",
        "\n",
        "\n",
        "model=LinearRegressionModel()\n",
        "\n",
        "cr=nn.MSELoss()\n",
        "optimizer=optim.SGD(model.parameters(),lr=0.001)\n",
        "\n",
        "for epoch in range(1000):\n",
        "  y_pred=model(X)\n",
        "  loss=cr(y_pred,y)\n",
        "  optimizer.zero_grad()\n",
        "  loss.backward()\n",
        "  optimizer.step()\n",
        "  if epoch%100==0:\n",
        "    print(f\"Epoch:{epoch}Loss:{loss.item():.4f}\")\n",
        "\n",
        "\n",
        "with torch.no_grad():\n",
        "    test = torch.tensor([[7.0]])\n",
        "    prediction = model(test)\n",
        "    print(\"Prediction for 10.0:\", prediction.item())\n"
      ],
      "metadata": {
        "colab": {
          "base_uri": "https://localhost:8080/"
        },
        "id": "VGEGpIAY8uz2",
        "outputId": "ca922bac-7ac4-43e7-f68a-32d65e06c4d9"
      },
      "execution_count": 32,
      "outputs": [
        {
          "output_type": "stream",
          "name": "stdout",
          "text": [
            "Epoch:0Loss:16.8157\n",
            "Epoch:100Loss:0.1998\n",
            "Epoch:200Loss:0.1930\n",
            "Epoch:300Loss:0.1865\n",
            "Epoch:400Loss:0.1802\n",
            "Epoch:500Loss:0.1743\n",
            "Epoch:600Loss:0.1685\n",
            "Epoch:700Loss:0.1631\n",
            "Epoch:800Loss:0.1578\n",
            "Epoch:900Loss:0.1528\n",
            "Prediction for 10.0: 3.391883373260498\n"
          ]
        }
      ]
    },
    {
      "cell_type": "code",
      "source": [
        "#LogisticRegression\n",
        "import torch\n",
        "import torch.nn as nn\n",
        "import torch.optim as optim\n",
        "\n",
        "X=torch.tensor([[2.0],[4.0],[5.0],[7.0],[3.0]])\n",
        "y=torch.tensor([[0.0],[0.0],[1.0],[1.0],[0.0]])\n",
        "\n",
        "class LogisticRegressionModel(nn.Module):\n",
        "  def __init__(self):\n",
        "    super(LogisticRegressionModel,self).__init__()\n",
        "    self.linear=nn.Linear(1,1)\n",
        "  def forward (self,x):\n",
        "    return torch.sigmoid(self.linear(x))\n",
        "\n",
        "model=LogisticRegressionModel()\n",
        "\n",
        "criterion=nn.BCELoss()\n",
        "optimizer=optim.SGD(model.parameters(),lr=0.001)\n",
        "\n",
        "for epoch in range(1000):\n",
        "\n",
        "  y_pred=model(X)\n",
        "  loss=criterion(y_pred,y)\n",
        "\n",
        "  optimizer.zero_grad()\n",
        "  loss.backward()\n",
        "  optimizer.step()\n",
        "  if epoch%100==0:\n",
        "    print(f\"Epoch {epoch}, Loss:{loss.item():.4f}\")\n",
        "\n",
        "with torch.no_grad():\n",
        "  test=torch.tensor([[1.0]])\n",
        "  prediction=model(test)\n",
        "  print(f\"Prediction for X={test}, y={prediction.item()}\")\n",
        "\n",
        "\n",
        "x_n=X.numpy()\n",
        "y_n=y.numpy()\n",
        "plt.plot(x_n,y_n,'ro')\n",
        "predicted=model(X).detach().numpy()\n",
        "plt.plot(x_n,predicted,'b')\n"
      ],
      "metadata": {
        "colab": {
          "base_uri": "https://localhost:8080/",
          "height": 638
        },
        "id": "AlwsjlOZ_DV_",
        "outputId": "e4f99dc4-2a7f-400c-f93d-9ef149aa32b0"
      },
      "execution_count": 43,
      "outputs": [
        {
          "output_type": "stream",
          "name": "stdout",
          "text": [
            "Epoch 0, Loss:0.7528\n",
            "Epoch 100, Loss:0.6556\n",
            "Epoch 200, Loss:0.6189\n",
            "Epoch 300, Loss:0.6050\n",
            "Epoch 400, Loss:0.5990\n",
            "Epoch 500, Loss:0.5957\n",
            "Epoch 600, Loss:0.5933\n",
            "Epoch 700, Loss:0.5912\n",
            "Epoch 800, Loss:0.5893\n",
            "Epoch 900, Loss:0.5874\n",
            "Prediction for X=tensor([[1.]]), y=0.383866548538208\n"
          ]
        },
        {
          "output_type": "execute_result",
          "data": {
            "text/plain": [
              "[<matplotlib.lines.Line2D at 0x7a0b90e45650>]"
            ]
          },
          "metadata": {},
          "execution_count": 43
        },
        {
          "output_type": "display_data",
          "data": {
            "text/plain": [
              "<Figure size 640x480 with 1 Axes>"
            ],
            "image/png": "[encoded data removed]"
          },
          "metadata": {}
        }
      ]
    },
    {
      "cell_type": "code",
      "source": [
        "import torch\n",
        "import torch.nn as nn\n",
        "import torch.optim as optim\n",
        "import numpy as np\n",
        "import matplotlib.pyplot as plt\n",
        "\n",
        "# Data\n",
        "X = torch.tensor([[3.0], [4.0], [5.0], [5.5], [6.0]])\n",
        "y = torch.tensor([[0.0], [0.0], [1.0], [1.0], [1.0]])\n",
        "\n",
        "# Logistic Regression Model\n",
        "class LogisticRegressionModel(nn.Module):\n",
        "    def __init__(self):\n",
        "        super(LogisticRegressionModel, self).__init__()\n",
        "        self.linear = nn.Linear(1, 1)\n",
        "\n",
        "    def forward(self, x):\n",
        "        return torch.sigmoid(self.linear(x))\n",
        "\n",
        "model = LogisticRegressionModel()\n",
        "criterion = nn.BCELoss()\n",
        "optimizer = optim.SGD(model.parameters(), lr=0.001)\n",
        "\n",
        "# Training loop\n",
        "for epoch in range(1000):\n",
        "    y_pred = model(X)\n",
        "    loss = criterion(y_pred, y)\n",
        "    optimizer.zero_grad()\n",
        "    loss.backward()\n",
        "    optimizer.step()\n",
        "    if epoch % 100 == 0:\n",
        "        print(f\"Epoch {epoch}, Loss: {loss.item():.4f}\")\n",
        "\n",
        "# Prediction\n",
        "with torch.no_grad():\n",
        "    test = torch.tensor([[5.5]])\n",
        "    prediction = model(test)\n",
        "    print(f\"Prediction for {test.item()} is {prediction.item():.4f}\")\n",
        "\n",
        "# Plotting\n",
        "x_n = X.numpy()\n",
        "y_n = y.numpy()\n",
        "\n",
        "# For a smooth curve, generate more x values\n",
        "x_vals = torch.linspace(2.5, 6.5, 100).reshape(-1, 1)\n",
        "with torch.no_grad():\n",
        "    y_preds = model(x_vals)\n",
        "\n",
        "plt.plot(x_n, y_n, 'ro', label='Original Data')                  # red dots = original\n",
        "plt.plot(x_vals.numpy(), y_preds.numpy(), 'b-', label='Model')   # blue line = prediction\n",
        "plt.xlabel(\"X\")\n",
        "plt.ylabel(\"Probability\")\n",
        "plt.legend()\n",
        "plt.title(\"Logistic Regression Fit\")\n",
        "plt.grid(True)\n",
        "plt.show()\n",
        "\n"
      ],
      "metadata": {
        "colab": {
          "base_uri": "https://localhost:8080/",
          "height": 663
        },
        "id": "fRtkCNlkF3H7",
        "outputId": "367d38bd-3816-4841-fd87-13707fe2d92f"
      },
      "execution_count": 60,
      "outputs": [
        {
          "output_type": "stream",
          "name": "stdout",
          "text": [
            "Epoch 0, Loss: 2.1849\n",
            "Epoch 100, Loss: 1.3189\n",
            "Epoch 200, Loss: 0.8284\n",
            "Epoch 300, Loss: 0.6515\n",
            "Epoch 400, Loss: 0.5975\n",
            "Epoch 500, Loss: 0.5802\n",
            "Epoch 600, Loss: 0.5740\n",
            "Epoch 700, Loss: 0.5714\n",
            "Epoch 800, Loss: 0.5700\n",
            "Epoch 900, Loss: 0.5690\n",
            "Prediction for 5.5 is 0.7270\n"
          ]
        },
        {
          "output_type": "display_data",
          "data": {
            "text/plain": [
              "<Figure size 640x480 with 1 Axes>"
            ],
            "image/png": "[encoded data removed]"
          },
          "metadata": {}
        }
      ]
    },
    {
      "cell_type": "code",
      "source": [],
      "metadata": {
        "id": "j52UBP6WIJ35"
      },
      "execution_count": null,
      "outputs": []
    }
  ]
}