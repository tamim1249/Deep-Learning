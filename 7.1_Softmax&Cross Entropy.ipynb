{
 "cells": [
  {
   "cell_type": "code",
   "execution_count": 2,
   "id": "7faf8abe-40e1-489d-8097-ed59760ce385",
   "metadata": {},
   "outputs": [
    {
     "name": "stdout",
     "output_type": "stream",
     "text": [
      "Probabilitites: tensor([1.0000e+00, 1.1253e-07, 3.0590e-07, 2.0452e-06])\n",
      "Sum: tensor(1.0000)\n"
     ]
    }
   ],
   "source": [
    "#Tamim Mahmud from Daffodil International University\n",
    "#21/06/2025\n",
    "import torch \n",
    "import torch.nn.functional as F\n",
    "\n",
    "score=torch.tensor([20.0,4.0,5.0,6.9])\n",
    "\n",
    "proba=F.softmax(score,dim=0)\n",
    "print(\"Probabilitites:\",proba)\n",
    "print(\"Sum:\",proba.sum())"
   ]
  },
  {
   "cell_type": "code",
   "execution_count": 5,
   "id": "76e25711-e399-4f68-adb3-355f2f9efba6",
   "metadata": {},
   "outputs": [
    {
     "name": "stdout",
     "output_type": "stream",
     "text": [
      "Probabilities: tensor([9.9996e-01, 3.7169e-05, 1.8553e-07, 7.5432e-08, 5.6026e-09])\n",
      "Sum: tensor(1.0000)\n"
     ]
    },
    {
     "name": "stderr",
     "output_type": "stream",
     "text": [
      "C:\\Users\\HP\\AppData\\Local\\Temp\\ipykernel_10968\\4063012668.py:5: UserWarning: Implicit dimension choice for softmax has been deprecated. Change the call to include dim=X as an argument.\n",
      "  prob=F.softmax(k)\n"
     ]
    }
   ],
   "source": [
    "import torch\n",
    "import torch.nn.functional as F\n",
    "k=torch.tensor([20.0,9.8,4.5,3.6,1.0])\n",
    "\n",
    "prob=F.softmax(k)\n",
    "\n",
    "print(\"Probabilities:\",prob)\n",
    "print(\"Sum:\",prob.sum())"
   ]
  },
  {
   "cell_type": "code",
   "execution_count": 24,
   "id": "01908ede-296a-45a3-96a5-f8cfa25f5aa8",
   "metadata": {},
   "outputs": [
    {
     "name": "stdout",
     "output_type": "stream",
     "text": [
      "Probabilities: tensor([4.0623e-04, 8.1593e-03, 9.9143e-01])\n",
      "Sum: tensor(1.)\n",
      "Manual Loss: 7.808602333068848\n",
      "Cross Entropy Loss: 7.808602333068848\n"
     ]
    }
   ],
   "source": [
    "#CrossEntropyLoss বলে দেয়, model এর predicted probability \n",
    "#আর actual label এর মাঝে কতো mismatch আছে।\n",
    "\n",
    "#now cross entropy loss\n",
    "import torch \n",
    "import torch.nn as nn\n",
    "import torch.nn.functional as F\n",
    "\n",
    "s=torch.tensor([2.0,5.0,9.8])\n",
    "\n",
    "prob=F.softmax(s,dim=0)\n",
    "\n",
    "print(\"Probabilities:\",prob)\n",
    "\n",
    "print(\"Sum:\",prob.sum())\n",
    "\n",
    "labels=torch.tensor([0])\n",
    "#manual loss\n",
    "\n",
    "log=torch.log(prob)\n",
    "loss_manual=-log[labels]\n",
    "print(\"Manual Loss:\",loss_manual.item())\n",
    "\n",
    "\n",
    "#cross entropy loss\n",
    "#cross entorpy loss expect input as [batch_size,num_class]\n",
    "loss_fn=nn.CrossEntropyLoss()\n",
    "score_batch=s.unsqueeze(0)\n",
    "loss=loss_fn(score_batch,labels)\n",
    "print(\"Cross Entropy Loss:\", loss.item())"
   ]
  },
  {
   "cell_type": "code",
   "execution_count": 30,
   "id": "44b7efa1-31fe-43c4-b4a4-28891168eb96",
   "metadata": {},
   "outputs": [
    {
     "name": "stdout",
     "output_type": "stream",
     "text": [
      "probabilities: tensor([4.9783e-05, 3.6785e-04, 7.3885e-03, 9.9219e-01])\n",
      "Sum: tensor(1.)\n",
      "Manual Loss: 9.907835960388184\n",
      "Cross Entorpy Loss: 9.907835960388184\n",
      "1\n"
     ]
    }
   ],
   "source": [
    "import torch\n",
    "import torch.nn as nn\n",
    "import torch.nn.functional as F\n",
    "\n",
    "scor=torch.tensor([1.0,3.0,6.0,10.9])\n",
    "\n",
    "softmax=F.softmax(scor,dim=0)\n",
    "print(\"probabilities:\",softmax)\n",
    "print(\"Sum:\",softmax.sum())\n",
    "\n",
    "#manual loss calculate \n",
    "labels=torch.tensor([0])\n",
    "\n",
    "log=torch.log(softmax)\n",
    "manual_loss=-log[labels]\n",
    "print(\"Manual Loss:\",manual_loss.item())\n",
    "\n",
    "#cross entorpy loss\n",
    "\n",
    "loss_fn=nn.CrossEntropyLoss()\n",
    "\n",
    "score_batch=scor.unsqueeze(0)\n",
    "entropy=loss_fn(score_batch,labels)\n",
    "print(\"Cross Entorpy Loss:\",entropy.item())\n",
    "print(scor.ndim)\n",
    "\n",
    "#loss_manual and cross entropy loss alwys is equal "
   ]
  },
  {
   "cell_type": "code",
   "execution_count": 42,
   "id": "08faff88-f1ef-44bf-9fae-8258af02e47c",
   "metadata": {},
   "outputs": [
    {
     "name": "stdout",
     "output_type": "stream",
     "text": [
      "tensor([[0.6590, 0.2424, 0.0986],\n",
      "        [0.1112, 0.8214, 0.0674],\n",
      "        [0.1158, 0.8556, 0.0286]])\n",
      "Manual Loss: 1.389887809753418\n",
      "Loss Entropy Loss: 1.389887809753418\n"
     ]
    }
   ],
   "source": [
    "score=torch.tensor([[2.0,1.0,0.1],\n",
    "                   [1.0,3.0,0.5],\n",
    "                   [3.9,5.9,2.5]])\n",
    "labels=torch.tensor([0,1,2])\n",
    "probs=F.softmax(score,dim=1)\n",
    "print(probs)\n",
    "\n",
    "\n",
    "log=torch.log(probs)\n",
    "true_class=log[range(3),labels]\n",
    "manual_loss=-true_class.mean()\n",
    "print(\"Manual Loss:\",manual_loss.item())\n",
    "\n",
    "loss_fn=nn.CrossEntropyLoss()\n",
    "\n",
    "entropy=loss_fn(score,labels)\n",
    "print(\"Loss Entropy Loss:\",entropy.item())"
   ]
  },
  {
   "cell_type": "code",
   "execution_count": 80,
   "id": "66d5f5d0-3e78-4c2f-b357-2fda6e7ec594",
   "metadata": {},
   "outputs": [
    {
     "data": {
      "text/plain": [
       "PassengerId      0\n",
       "Survived         0\n",
       "Pclass           0\n",
       "Name             0\n",
       "Sex              0\n",
       "Age              0\n",
       "SibSp            0\n",
       "Parch            0\n",
       "Ticket           0\n",
       "Fare             0\n",
       "Cabin          687\n",
       "Embarked         0\n",
       "dtype: int64"
      ]
     },
     "execution_count": 80,
     "metadata": {},
     "output_type": "execute_result"
    }
   ],
   "source": [
    "import pandas as pd\n",
    "df=pd.read_csv('titanic.csv')\n",
    "\n",
    "\n",
    "df['Sex']=df['Sex'].map({'male':0,'female':1})\n",
    "df['Embarked']=df['Embarked'].map({'S':0,'C':1,'Q':2})\n",
    "df.head(2)\n",
    "\n",
    "\n",
    "df['Age'] = df['Age'].fillna(df['Age'].mean())\n",
    "\n",
    "df['Embarked']=df['Embarked'].fillna(df['Embarked'].mode()[0])\n",
    "df.isnull().sum()\n"
   ]
  },
  {
   "cell_type": "code",
   "execution_count": 81,
   "id": "2c8f1931-dd02-48be-8f77-90cdf3336a27",
   "metadata": {},
   "outputs": [
    {
     "data": {
      "text/plain": [
       "(torch.Size([891, 7]), torch.Size([891]))"
      ]
     },
     "execution_count": 81,
     "metadata": {},
     "output_type": "execute_result"
    }
   ],
   "source": [
    "features = ['Pclass','Sex','Age','SibSp','Parch','Fare','Embarked']\n",
    "X=torch.tensor(df[features].values,dtype=torch.float32)\n",
    "y=torch.tensor(df['Survived'].values,dtype=torch.float32)\n",
    "X.shape , y.shape"
   ]
  },
  {
   "cell_type": "code",
   "execution_count": 82,
   "id": "83142bb9-fc06-4cc7-8f28-bb8c6546ce13",
   "metadata": {},
   "outputs": [],
   "source": [
    "import torch.nn as nn\n",
    "import torch.nn.functional as F\n",
    "model=nn.Linear(len(features),2) #binary classification survived or not \n",
    "logits=model(X)\n"
   ]
  },
  {
   "cell_type": "code",
   "execution_count": 83,
   "id": "9586602b-d74c-4cc5-ba84-6ac7ac12a0bb",
   "metadata": {},
   "outputs": [
    {
     "name": "stdout",
     "output_type": "stream",
     "text": [
      "Manual CE Loss: 1.2052111625671387\n"
     ]
    }
   ],
   "source": [
    "# Softmax + Manual CrossEntropyLoss হিসাব\n",
    "probs=F.softmax(logits,dim=1)\n",
    "log=torch.log(probs)\n",
    "correct_log_probs=log[torch.arange(len(y)),y.long()]\n",
    "manual_loss=-correct_log_probs.mean()\n",
    "print(\"Manual CE Loss:\",manual_loss.item())"
   ]
  },
  {
   "cell_type": "code",
   "execution_count": 84,
   "id": "1bdd3b7f-ae22-4f68-9e71-889a027c1575",
   "metadata": {},
   "outputs": [
    {
     "name": "stdout",
     "output_type": "stream",
     "text": [
      "Cross Entropy Loss: 1.2052112817764282\n"
     ]
    }
   ],
   "source": [
    "# PyTorch CrossEntropyLoss\n",
    "\n",
    "loss_fn=nn.CrossEntropyLoss()\n",
    "loss=loss_fn(logits,y.long())\n",
    "print(\"Cross Entropy Loss:\",loss.item())"
   ]
  },
  {
   "cell_type": "code",
   "execution_count": null,
   "id": "b0f2c1ea-4936-47b0-be8c-801dbddbf921",
   "metadata": {},
   "outputs": [],
   "source": [
    "#CrossEntropyLoss->Model এর prediction আর সত্য label এর মধ্যে match-এর মাত্রা।"
   ]
  },
  {
   "cell_type": "code",
   "execution_count": 87,
   "id": "31ca4c01-2ca2-469d-b5b4-f2d90f473161",
   "metadata": {},
   "outputs": [
    {
     "name": "stdout",
     "output_type": "stream",
     "text": [
      "Epoch 10: Train Loss = 2.5224, Test Accuracy = 0.7207\n",
      "Epoch 20: Train Loss = 1.0676, Test Accuracy = 0.7318\n",
      "Epoch 30: Train Loss = 0.8283, Test Accuracy = 0.4358\n",
      "Epoch 40: Train Loss = 0.6409, Test Accuracy = 0.7151\n",
      "Epoch 50: Train Loss = 0.5836, Test Accuracy = 0.7542\n",
      "Epoch 60: Train Loss = 0.5517, Test Accuracy = 0.7654\n",
      "Epoch 70: Train Loss = 0.5230, Test Accuracy = 0.8045\n",
      "Epoch 80: Train Loss = 0.5055, Test Accuracy = 0.7989\n",
      "Epoch 90: Train Loss = 0.4949, Test Accuracy = 0.8212\n",
      "Epoch 100: Train Loss = 0.4871, Test Accuracy = 0.7821\n"
     ]
    },
    {
     "data": {
      "image/png": "[encoded data removed]",
      "text/plain": [
       "<Figure size 1200x500 with 2 Axes>"
      ]
     },
     "metadata": {},
     "output_type": "display_data"
    }
   ],
   "source": [
    "import pandas as pd\n",
    "import torch\n",
    "import torch.nn as nn\n",
    "import torch.nn.functional as F\n",
    "from sklearn.model_selection import train_test_split\n",
    "import matplotlib.pyplot as plt\n",
    "\n",
    "# Step 1: Load & preprocess Titanic data\n",
    "df = pd.read_csv('titanic.csv')\n",
    "\n",
    "# Fill missing values\n",
    "df['Age'] = df['Age'].fillna(df['Age'].mean())\n",
    "df['Embarked'] = df['Embarked'].fillna('S')\n",
    "\n",
    "# Encode categorical variables\n",
    "df['Sex'] = df['Sex'].map({'male': 0, 'female': 1})\n",
    "df['Embarked'] = df['Embarked'].map({'S': 0, 'C': 1, 'Q': 2})\n",
    "\n",
    "# Features and target\n",
    "features = ['Pclass', 'Sex', 'Age', 'SibSp', 'Parch', 'Fare', 'Embarked']\n",
    "X = df[features].values\n",
    "y = df['Survived'].values\n",
    "\n",
    "# Step 2: Train-test split\n",
    "X_train, X_test, y_train, y_test = train_test_split(X, y, test_size=0.2, random_state=42)\n",
    "\n",
    "# Convert to PyTorch tensors\n",
    "X_train = torch.tensor(X_train, dtype=torch.float32)\n",
    "X_test = torch.tensor(X_test, dtype=torch.float32)\n",
    "y_train = torch.tensor(y_train, dtype=torch.long)\n",
    "y_test = torch.tensor(y_test, dtype=torch.long)\n",
    "\n",
    "# Step 3: Define model\n",
    "model = nn.Linear(len(features), 2)  # Output: 2 classes\n",
    "\n",
    "# Step 4: Training loop\n",
    "optimizer = torch.optim.Adam(model.parameters(), lr=0.01)\n",
    "loss_fn = nn.CrossEntropyLoss()\n",
    "\n",
    "epochs = 100\n",
    "train_losses = []\n",
    "test_accuracies = []\n",
    "\n",
    "for epoch in range(epochs):\n",
    "    # Forward pass\n",
    "    logits = model(X_train)\n",
    "    loss = loss_fn(logits, y_train)\n",
    "    train_losses.append(loss.item())\n",
    "\n",
    "    # Backward pass\n",
    "    optimizer.zero_grad()\n",
    "    loss.backward()\n",
    "    optimizer.step()\n",
    "\n",
    "    # Test accuracy\n",
    "    with torch.no_grad():\n",
    "        test_logits = model(X_test)\n",
    "        preds = torch.argmax(test_logits, dim=1)\n",
    "        acc = (preds == y_test).float().mean().item()\n",
    "        test_accuracies.append(acc)\n",
    "\n",
    "    if (epoch+1) % 10 == 0:\n",
    "        print(f\"Epoch {epoch+1}: Train Loss = {loss.item():.4f}, Test Accuracy = {acc:.4f}\")\n",
    "\n",
    "# Step 5: Plotting loss and accuracy\n",
    "plt.figure(figsize=(12,5))\n",
    "\n",
    "plt.subplot(1,2,1)\n",
    "plt.plot(train_losses, label='Train Loss')\n",
    "plt.xlabel('Epochs')\n",
    "plt.ylabel('Loss')\n",
    "plt.title('Loss Over Time')\n",
    "plt.legend()\n",
    "\n",
    "plt.subplot(1,2,2)\n",
    "plt.plot(test_accuracies, label='Test Accuracy', color='green')\n",
    "plt.xlabel('Epochs')\n",
    "plt.ylabel('Accuracy')\n",
    "plt.title('Accuracy Over Time')\n",
    "plt.legend()\n",
    "\n",
    "plt.tight_layout()\n",
    "plt.show()\n"
   ]
  },
  {
   "cell_type": "code",
   "execution_count": null,
   "id": "ef39e4e3-7150-4c72-ab4b-93a6ebb7cbf2",
   "metadata": {},
   "outputs": [],
   "source": [
    "\n"
   ]
  },
  {
   "cell_type": "code",
   "execution_count": null,
   "id": "9a1c0be3-d375-44b3-8f4a-878d9ea8add3",
   "metadata": {},
   "outputs": [],
   "source": []
  },
  {
   "cell_type": "code",
   "execution_count": null,
   "id": "c7bc78e7-6b5b-49d2-84ba-8ba518ad5cb9",
   "metadata": {},
   "outputs": [],
   "source": []
  }
 ],
 "metadata": {
  "kernelspec": {
   "display_name": "Python 3 (ipykernel)",
   "language": "python",
   "name": "python3"
  },
  "language_info": {
   "codemirror_mode": {
    "name": "ipython",
    "version": 3
   },
   "file_extension": ".py",
   "mimetype": "text/x-python",
   "name": "python",
   "nbconvert_exporter": "python",
   "pygments_lexer": "ipython3",
   "version": "3.12.7"
  }
 },
 "nbformat": 4,
 "nbformat_minor": 5
}
