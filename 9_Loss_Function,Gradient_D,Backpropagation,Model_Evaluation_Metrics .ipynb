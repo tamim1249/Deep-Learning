{
  "nbformat": 4,
  "nbformat_minor": 0,
  "metadata": {
    "colab": {
      "provenance": []
    },
    "kernelspec": {
      "name": "python3",
      "display_name": "Python 3"
    },
    "language_info": {
      "name": "python"
    }
  },
  "cells": [
    {
      "cell_type": "code",
      "execution_count": 1,
      "metadata": {
        "id": "grLEWC4ZhqJQ"
      },
      "outputs": [],
      "source": [
        "#Tamim Mahmud From Daffodil International University\n",
        "#21/06/2025\n",
        "#Loss Function\n",
        "#Gradient Descent\n",
        "#Backpropagation\n",
        "#Model Evaluation Metrics\n",
        "\n",
        "\n",
        "\n",
        "\n",
        "\n",
        "#Loss Function\n",
        "#👉 Loss function বলে দেই তুমি model train করো ঠিকমতো হচ্ছে কি না।\n",
        "#এটা একটা সংখ্যা যেটা বোঝায়, \"model-এর prediction আর আসল label-এর মধ্যে পার্থক্য কতটা\"।\n",
        "\n",
        "#two types\n",
        "#1. MSE\n",
        "#2. Cross Entropy Loss\n",
        "\n",
        "\n"
      ]
    },
    {
      "cell_type": "markdown",
      "source": [
        "1. MSE (Mean Squared Error)\n",
        "\n",
        "📌 যখন: Regression problem হয়\n",
        "\n",
        "📌 কাজ: predicted value আর actual value-এর পার্থক্যের square নিয়ে average নেয়।"
      ],
      "metadata": {
        "id": "35ygUfHDiR_s"
      }
    },
    {
      "cell_type": "code",
      "source": [
        "import torch\n",
        "import torch.nn as nn\n",
        "\n",
        "y_true = torch.tensor([3.0, 5.0, 2.5])\n",
        "y_pred = torch.tensor([2.5, 5.3, 2.0])\n",
        "mse=nn.MSELoss()\n",
        "loss=mse(y_pred,y_true)\n",
        "print(\"MSE Loss : \",loss.item())"
      ],
      "metadata": {
        "colab": {
          "base_uri": "https://localhost:8080/"
        },
        "id": "pYDlboo1iGDp",
        "outputId": "f498ee38-5035-486c-a37b-8c65a7abeb85"
      },
      "execution_count": 2,
      "outputs": [
        {
          "output_type": "stream",
          "name": "stdout",
          "text": [
            "MSE Loss :  0.19666671752929688\n"
          ]
        }
      ]
    },
    {
      "cell_type": "markdown",
      "source": [
        "2. CrossEntropyLoss\n",
        "\n",
        "📌 যখন: Classification problem হয়\n",
        "\n",
        "📌 কাজ: তুমি যেই class টা predict করতে চাও, সেই class-এর probability log দিয়ে penalize করে।"
      ],
      "metadata": {
        "id": "ZSWGZ1y7ioaM"
      }
    },
    {
      "cell_type": "code",
      "source": [
        "import torch\n",
        "import torch.nn as nn\n",
        "\n",
        "logits = torch.tensor([[2.0, 1.0, 0.1]])\n",
        "labels = torch.tensor([0])  # class 0 is true\n",
        "\n",
        "loss_fn = nn.CrossEntropyLoss()\n",
        "loss = loss_fn(logits, labels)\n",
        "print(\"Cross Entropy Loss:\", loss.item())\n",
        "#🔸 এখানে logits মানে হলো raw score (softmax করার আগের)।\n",
        "#🔸 CrossEntropyLoss internally softmax + log + negative করে ফেলে।"
      ],
      "metadata": {
        "colab": {
          "base_uri": "https://localhost:8080/"
        },
        "id": "xTFGWwrIiis2",
        "outputId": "dda95742-8951-43cb-992a-46c1f686bf61"
      },
      "execution_count": 4,
      "outputs": [
        {
          "output_type": "stream",
          "name": "stdout",
          "text": [
            "Cross Entropy Loss: 0.4170299470424652\n"
          ]
        }
      ]
    },
    {
      "cell_type": "markdown",
      "source": [
        "3. BCELoss (Binary Cross Entropy)\n",
        "\n",
        "📌 যখন: শুধু 0 বা 1 predict করতে হয়\n",
        "(binary classification)\n",
        "\n",
        "📌 Input: sigmoid এর output দিতে হয়।"
      ],
      "metadata": {
        "id": "XbmtoKiLi7hT"
      }
    },
    {
      "cell_type": "code",
      "source": [
        "import torch\n",
        "import torch.nn as nn\n",
        "\n",
        "preds = torch.tensor([[0.9], [0.2], [0.7]])  # after sigmoid\n",
        "labels = torch.tensor([[1.0], [0.0], [1.0]])\n",
        "\n",
        "loss_fn = nn.BCELoss()\n",
        "loss = loss_fn(preds, labels)\n",
        "print(\"Binary Cross Entropy Loss:\", loss.item())\n"
      ],
      "metadata": {
        "colab": {
          "base_uri": "https://localhost:8080/"
        },
        "id": "L7MRvD_5izHS",
        "outputId": "0532cbbf-7d0c-4423-8a18-b77aa5816132"
      },
      "execution_count": 5,
      "outputs": [
        {
          "output_type": "stream",
          "name": "stdout",
          "text": [
            "Binary Cross Entropy Loss: 0.22839303314685822\n"
          ]
        }
      ]
    },
    {
      "cell_type": "code",
      "source": [
        "#Model Evaluation Metrics\n",
        "#Accuracy\n",
        "#Precision\n",
        "#Recell\n",
        "#F1 Score\n",
        "#Confusion Metrics"
      ],
      "metadata": {
        "id": "48wptsUMlz9S"
      },
      "execution_count": 7,
      "outputs": []
    },
    {
      "cell_type": "markdown",
      "source": [
        "🔍 Model Evaluation Metrics (Classification-এর জন্য)\n",
        "\n",
        "যখন তুমি একটা মডেল ট্রেন করো, তখন কিভাবে বুঝবে সেটি ভালো করছে কিনা? এজন্য কিছু Evaluation Metrics ব্যবহার করা হয়:\n",
        "\n",
        "#Accuracy: মোট যতগুলো প্রেডিকশন ঠিক হয়েছে তার অনুপাতে সবগুলোর শতাংশ।  Data balanced (positive আর negative sample সমান সমান)\n",
        "\n",
        "#Precision: মডেল যেসবকে positive বলেছে, তার মধ্যে কতগুলো আসলেই positive ছিল?, False Positive কমাতে চাও (যেমন: Email Spam detection – ভুল করে কোনো জরুরি ইমেইলকে spam বললে সমস্যা)\n",
        "\n",
        "#Recall(Sensitivity): আসল যতগুলো positive ছিল, তার মধ্যে কতগুলোকে মডেল ঠিকঠাক ধরেছে? , False Negative কমাতে চাও (যেমন: ক্যান্সার ডিটেকশন – ভুলে কাউকে healthy বললে ভয়ানক)\n",
        "\n",
        "#F1 Score: Precision আর Recall এর harmonic mean , Data imbalance থাকে, তখন F1 বেশি informative\n",
        "\n",
        "#Confusion Matrix :একটা টেবিল যা দেখায় মডেল কোনটা ঠিক বলেছে, কোনটা ভুল:"
      ],
      "metadata": {
        "id": "7UtJdeu6kgl_"
      }
    },
    {
      "cell_type": "code",
      "source": [
        "import torch\n",
        "from sklearn.metrics import accuracy_score, precision_score, recall_score, f1_score, confusion_matrix\n",
        "\n",
        "# Dummy actual labels (Ground Truth)\n",
        "y_true = torch.tensor([1, 0, 1, 1, 0, 1, 0, 0])\n",
        "\n",
        "# Dummy model predictions (Predicted labels)\n",
        "y_pred = torch.tensor([1, 0, 1, 0, 0, 1, 1, 0])\n",
        "\n",
        "# Step 1: Convert tensors to numpy for sklearn\n",
        "y_true_np = y_true.numpy()\n",
        "y_pred_np = y_pred.numpy()\n",
        "\n",
        "# Step 2: Calculate Metrics\n",
        "acc = accuracy_score(y_true_np, y_pred_np)\n",
        "prec = precision_score(y_true_np, y_pred_np)\n",
        "rec = recall_score(y_true_np, y_pred_np)\n",
        "f1 = f1_score(y_true_np, y_pred_np)\n",
        "cm = confusion_matrix(y_true_np, y_pred_np)\n",
        "\n",
        "# Step 3: Print Results\n",
        "print(\"Confusion Matrix:\\n\", cm)\n",
        "print(f\"Accuracy: {acc:.2f}\")\n",
        "print(f\"Precision: {prec:.2f}\")\n",
        "print(f\"Recall: {rec:.2f}\")\n",
        "print(f\"F1 Score: {f1:.2f}\")\n"
      ],
      "metadata": {
        "colab": {
          "base_uri": "https://localhost:8080/"
        },
        "id": "FvumEqJujAE0",
        "outputId": "91f90815-0592-4a72-b0b9-24c344cd3d48"
      },
      "execution_count": 6,
      "outputs": [
        {
          "output_type": "stream",
          "name": "stdout",
          "text": [
            "Confusion Matrix:\n",
            " [[3 1]\n",
            " [1 3]]\n",
            "Accuracy: 0.75\n",
            "Precision: 0.75\n",
            "Recall: 0.75\n",
            "F1 Score: 0.75\n"
          ]
        }
      ]
    },
    {
      "cell_type": "code",
      "source": [
        "#Gradient Descent\n"
      ],
      "metadata": {
        "id": "Ycye9idPlkSb"
      },
      "execution_count": 8,
      "outputs": []
    },
    {
      "cell_type": "markdown",
      "source": [
        "🔥 Gradient Descent কি?\n",
        "\n",
        "Gradient Descent হলো একটা optimization algorithm — যেটা Loss Function কমিয়ে মডেলের weight update করার জন্য ব্যবহৃত হয়।\n",
        "\n",
        "\n",
        "তুমি ভাবতে পারো এটা এমন এক টেকনিক যা একটা পাহাড় বেয়ে নিচে নামার মতো — যেখানে লক্ষ্য হলো সর্বনিম্ন (minimum loss) পয়েন্টে পৌঁছানো।"
      ],
      "metadata": {
        "id": "0JB_6AigmDNd"
      }
    },
    {
      "cell_type": "code",
      "source": [
        "import torch\n",
        "import matplotlib.pyplot as plt\n",
        "\n",
        "# 🎯 Step 1: Dummy Dataset (Experience vs Salary)\n",
        "X = torch.tensor([[1.0], [2.0], [3.0], [4.0], [5.0]])\n",
        "y = torch.tensor([[30.0], [50.0], [70.0], [90.0], [110.0]])  # Salary in thousands\n",
        "\n",
        "# Step 2: Initialize weights & bias\n",
        "w = torch.randn(1, requires_grad=True)\n",
        "b = torch.randn(1, requires_grad=True)\n",
        "\n",
        "# Step 3: Set learning rate & epochs\n",
        "lr = 0.01\n",
        "epochs = 200\n",
        "\n",
        "# Step 4: Training Loop\n",
        "for epoch in range(epochs):\n",
        "    # Prediction: y_pred = w*x + b\n",
        "    y_pred = X * w + b\n",
        "\n",
        "    # MSE Loss: mean squared error\n",
        "    loss = torch.mean((y - y_pred) ** 2)\n",
        "\n",
        "    # Backward pass (calculate gradients)\n",
        "    loss.backward()\n",
        "\n",
        "    # Update weights\n",
        "    with torch.no_grad():\n",
        "        w -= lr * w.grad\n",
        "        b -= lr * b.grad\n",
        "\n",
        "    # Clear gradients for next step\n",
        "    w.grad.zero_()\n",
        "    b.grad.zero_()\n",
        "\n",
        "    # Print progress every 20 epochs\n",
        "    if epoch % 20 == 0 or epoch == epochs-1:\n",
        "        print(f\"Epoch {epoch+1:03d} | Loss: {loss.item():.4f} | w: {w.item():.4f} | b: {b.item():.4f}\")\n",
        "\n",
        "# Step 5: Plot\n",
        "with torch.no_grad():\n",
        "    y_pred = X * w + b  #prediction(Hypothesis)\n",
        "\n",
        "plt.scatter(X, y, label='Actual Data')\n",
        "plt.plot(X, y_pred, color='red', label='Predicted Line')\n",
        "plt.xlabel(\"Years of Experience\")\n",
        "plt.ylabel(\"Salary (in thousands)\")\n",
        "plt.title(\"Linear Regression with Gradient Descent\")\n",
        "plt.legend()\n",
        "plt.grid(True)\n",
        "plt.show()\n"
      ],
      "metadata": {
        "colab": {
          "base_uri": "https://localhost:8080/",
          "height": 663
        },
        "id": "xmYK8hgMmCQO",
        "outputId": "cb1e093e-10f0-459b-bbd5-3348d188323c"
      },
      "execution_count": 10,
      "outputs": [
        {
          "output_type": "stream",
          "name": "stdout",
          "text": [
            "Epoch 001 | Loss: 5223.4136 | w: 5.5805 | b: 1.9833\n",
            "Epoch 021 | Loss: 2.3404 | w: 20.8973 | b: 6.4893\n",
            "Epoch 041 | Loss: 1.9508 | w: 20.9034 | b: 6.7372\n",
            "Epoch 061 | Loss: 1.7037 | w: 20.8445 | b: 6.9509\n",
            "Epoch 081 | Loss: 1.4878 | w: 20.7892 | b: 7.1506\n",
            "Epoch 101 | Loss: 1.2993 | w: 20.7375 | b: 7.3372\n",
            "Epoch 121 | Loss: 1.1347 | w: 20.6892 | b: 7.5116\n",
            "Epoch 141 | Loss: 0.9910 | w: 20.6441 | b: 7.6746\n",
            "Epoch 161 | Loss: 0.8654 | w: 20.6019 | b: 7.8269\n",
            "Epoch 181 | Loss: 0.7558 | w: 20.5625 | b: 7.9692\n",
            "Epoch 200 | Loss: 0.6645 | w: 20.5274 | b: 8.0958\n"
          ]
        },
        {
          "output_type": "display_data",
          "data": {
            "text/plain": [
              "<Figure size 640x480 with 1 Axes>"
            ],
            "image/png": "[encoded data removed]"
          },
          "metadata": {}
        }
      ]
    },
    {
      "cell_type": "code",
      "source": [
        "#Backpropagation"
      ],
      "metadata": {
        "id": "mOJtH6dZmPln"
      },
      "execution_count": 11,
      "outputs": []
    },
    {
      "cell_type": "markdown",
      "source": [
        "Backpropagation হলো:\n",
        "\n",
        "\n",
        "🔁 Gradient Descent + Chain Rule of Derivatives ➤ যা ব্যবহার করে মডেল শেখে কিভাবে প্রতিটা weight পরিবর্তন করতে হবে, যাতে Loss কমে।\n",
        "\n",
        "🧮 Backpropagation এর মূল কথা:\n",
        "\n",
        "“Loss” কতটা হয়েছে, তার দায় কোন weight কতটা বহন করেছে, সেটা বের করে gradient হিসাব করি, তারপর সেই weight-কে adjust করি।"
      ],
      "metadata": {
        "id": "CH2mUXxwm59K"
      }
    },
    {
      "cell_type": "code",
      "source": [
        "import torch\n",
        "import torch.nn as nn\n",
        "import matplotlib.pyplot as plt\n",
        "\n",
        "# Step 1: Data (Study hours vs Exam scores)\n",
        "X = torch.tensor([[1.0], [2.0], [3.0], [4.0], [5.0]])\n",
        "y = torch.tensor([[40.0], [50.0], [65.0], [80.0], [90.0]])\n",
        "\n",
        "# Step 2: Simple 1-layer Neural Network (linear only)\n",
        "class SimpleModel(nn.Module):\n",
        "    def __init__(self):\n",
        "        super().__init__()\n",
        "        self.linear = nn.Linear(1, 1)  # 1 input -> 1 output\n",
        "\n",
        "    def forward(self, x):\n",
        "        return self.linear(x)\n",
        "\n",
        "# Step 3: Model, Loss, Optimizer\n",
        "model = SimpleModel()\n",
        "loss_fn = nn.MSELoss()\n",
        "optimizer = torch.optim.SGD(model.parameters(), lr=0.01)\n",
        "\n",
        "# Step 4: Training Loop\n",
        "epochs = 200\n",
        "for epoch in range(epochs):\n",
        "    # Forward pass\n",
        "    y_pred = model(X)\n",
        "\n",
        "    # Compute loss\n",
        "    loss = loss_fn(y_pred, y)\n",
        "\n",
        "    # Backward pass\n",
        "    loss.backward()\n",
        "\n",
        "    # Update weights\n",
        "    optimizer.step()\n",
        "    optimizer.zero_grad()\n",
        "\n",
        "    # Print occasionally\n",
        "    if epoch % 20 == 0 or epoch == epochs - 1:\n",
        "        [w, b] = list(model.parameters())\n",
        "        print(f\"Epoch {epoch+1:03d} | Loss: {loss.item():.4f} | w: {w.item():.4f} | b: {b.item():.4f}\")\n",
        "\n",
        "# Step 5: Plot results\n",
        "with torch.no_grad():\n",
        "    y_pred = model(X)\n",
        "    plt.scatter(X, y, label='Actual')\n",
        "    plt.plot(X, y_pred, color='red', label='Predicted')\n",
        "    plt.xlabel('Study Hours')\n",
        "    plt.ylabel('Exam Score')\n",
        "    plt.legend()\n",
        "    plt.title('Backpropagation: Study Hours vs Score')\n",
        "    plt.grid(True)\n",
        "    plt.show()\n"
      ],
      "metadata": {
        "colab": {
          "base_uri": "https://localhost:8080/",
          "height": 663
        },
        "id": "gKlx9G1XnL-E",
        "outputId": "3a94ebde-7e25-4f49-99af-dffa084f49ad"
      },
      "execution_count": 12,
      "outputs": [
        {
          "output_type": "stream",
          "name": "stdout",
          "text": [
            "Epoch 001 | Loss: 4563.1909 | w: 4.3035 | b: 1.7125\n",
            "Epoch 021 | Loss: 68.1702 | w: 18.1950 | b: 6.9930\n",
            "Epoch 041 | Loss: 59.7070 | w: 17.9149 | b: 8.2545\n",
            "Epoch 061 | Loss: 52.3959 | w: 17.5933 | b: 9.4167\n",
            "Epoch 081 | Loss: 46.0111 | w: 17.2925 | b: 10.5028\n",
            "Epoch 101 | Loss: 40.4352 | w: 17.0114 | b: 11.5177\n",
            "Epoch 121 | Loss: 35.5658 | w: 16.7487 | b: 12.4662\n",
            "Epoch 141 | Loss: 31.3133 | w: 16.5032 | b: 13.3525\n",
            "Epoch 161 | Loss: 27.5995 | w: 16.2737 | b: 14.1808\n",
            "Epoch 181 | Loss: 24.3562 | w: 16.0593 | b: 14.9548\n",
            "Epoch 200 | Loss: 21.6565 | w: 15.8687 | b: 15.6432\n"
          ]
        },
        {
          "output_type": "display_data",
          "data": {
            "text/plain": [
              "<Figure size 640x480 with 1 Axes>"
            ],
            "image/png": "[encoded data removed]"
          },
          "metadata": {}
        }
      ]
    },
    {
      "cell_type": "code",
      "source": [],
      "metadata": {
        "id": "NordfUdEnL6t"
      },
      "execution_count": null,
      "outputs": []
    },
    {
      "cell_type": "code",
      "source": [],
      "metadata": {
        "id": "CPE2cZjmm5UQ"
      },
      "execution_count": null,
      "outputs": []
    }
  ]
}